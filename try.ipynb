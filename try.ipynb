{
 "cells": [
  {
   "cell_type": "code",
   "execution_count": null,
   "metadata": {},
   "outputs": [],
   "source": [
    "import os\n",
    "os.environ[\"DJANGO_SETTINGS_MODULE\"] = \"STARTUP.settings\"\n",
    "\n",
    "import django\n",
    "django.setup()\n",
    "\n",
    "import pyrebase\n"
   ]
  },
  {
   "cell_type": "code",
   "execution_count": null,
   "metadata": {},
   "outputs": [],
   "source": [
    "#get the information of current user of system\n",
    "\n",
    "from login.models import Iot, Plants\n",
    "from django.contrib.auth.models import User\n",
    "\n",
    "\n",
    "print(\"Current user:\", current_user_username)\n",
    "\n",
    "# Get the current user's username\n",
    "current_user_username = os.getlogin()\n",
    "\n",
    "\n"
   ]
  },
  {
   "cell_type": "code",
   "execution_count": null,
   "metadata": {},
   "outputs": [],
   "source": [
    "import sys\n",
    "import pyrebase\n",
    "sys.path.append('firebase_config.py')\n",
    "from firebase_config import config\n",
    "\n",
    "def print_nested_data(data, indent=0):\n",
    "    for key, value in data.items():\n",
    "        if isinstance(value, dict):\n",
    "            print(\" \" * indent + f\"Key: {key}:\")\n",
    "            print_nested_data(value, indent + 4)\n",
    "        else:\n",
    "            print(\" \" * indent + f\"Key: {key}: {value}\")\n",
    "\n",
    "firebase=pyrebase.initialize_app(config)\n",
    "authe = firebase.auth()\n",
    "database=firebase.database()\n",
    "\n",
    "print (config)\n",
    "\n",
    "registered_iot = f'IOT/'\n",
    "\n",
    "all_iot = database.child(registered_iot).get()\n",
    "\n",
    "if all_iot.val():\n",
    "    all_iot_dict = all_iot.val()\n",
    "    \n",
    "\n",
    "def print_nested_dict(data, indent=0):\n",
    "    for key, value in data.items():\n",
    "        print(' ' * indent + f\"{key}: \", end='')\n",
    "        if isinstance(value, dict):\n",
    "            print(\"{\")\n",
    "            print_nested_dict(value, indent + 4)\n",
    "            print(' ' * indent + \"}\")\n",
    "        else:\n",
    "            print(value)\n",
    "\n",
    "for column, values in all_iot_dict.items():\n",
    "    print(f\"Column: {column}\")\n",
    "    print_nested_dict(values)\n",
    "    print(\"-------------\")"
   ]
  },
  {
   "cell_type": "code",
   "execution_count": null,
   "metadata": {},
   "outputs": [],
   "source": []
  }
 ],
 "metadata": {
  "kernelspec": {
   "display_name": "Python 3 (ipykernel)",
   "language": "python",
   "name": "python3"
  },
  "language_info": {
   "codemirror_mode": {
    "name": "ipython",
    "version": 3
   },
   "file_extension": ".py",
   "mimetype": "text/x-python",
   "name": "python",
   "nbconvert_exporter": "python",
   "pygments_lexer": "ipython3",
   "version": "3.9.13"
  }
 },
 "nbformat": 4,
 "nbformat_minor": 4
}
